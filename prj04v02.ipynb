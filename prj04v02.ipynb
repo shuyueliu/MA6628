{
 "cells": [
  {
   "cell_type": "markdown",
   "metadata": {
    "collapsed": false
   },
   "source": [
    "##### Prj04v02.Problem description\n",
    "\n",
    "Consider the following data sets:\n",
    "\n",
    "- Today: Sep 27, 2018\n",
    "\n",
    "- Spot price: 290.68\n",
    "\n",
    "- Maturity: Dec 31, 2018\n",
    "\n",
    "- Strike: 288\n",
    "\n",
    "- rate: 0.02 (from https://www.treasury.gov/resource-center/data-chart-center/interest-rates/Pages/TextView.aspx?data=yield)\n",
    "\n",
    "- Market call price: 9.23\n",
    "\n",
    "**Todo**\n",
    "\n",
    "1. If the volatility is $30\\%$, what is the difference between BSM call price and market call price?\n",
    "2. Compute the implied volatility."
   ]
  },
  {
   "cell_type": "code",
   "execution_count": 0,
   "metadata": {
    "collapsed": false
   },
   "outputs": [
   ],
   "source": [
   ]
  },
  {
   "cell_type": "code",
   "execution_count": 1,
   "metadata": {
    "collapsed": false
   },
   "outputs": [
   ],
   "source": [
    "import numpy as np\n",
    "import BsmOption as BO"
   ]
  },
  {
   "cell_type": "code",
   "execution_count": 2,
   "metadata": {
    "collapsed": false
   },
   "outputs": [
    {
     "name": "stdout",
     "output_type": "stream",
     "text": [
      "BSM Call option price with 30 percent volatility is 19.769938\n"
     ]
    }
   ],
   "source": [
    "# If the volatility is $30\\%$, what is the difference between BSM call price and market call price?\n",
    "\n",
    "Today = np.datetime64('2018-09-27')\n",
    "Maturity = np.datetime64('2018-12-31')\n",
    "T = (Maturity - Today)/np.timedelta64(1,'D')/365 #time to maturity in year\n",
    "\n",
    "vol = 0.3\n",
    "\n",
    "iOpt = BO.BsmEuOptions(\\\n",
    "                        Spot = 290.68, Strike = 288, Rate = 0.02, \\\n",
    "                        Vol = vol, Maturity = T, Type = 'Call'\\\n",
    "                        )\n",
    "call_value = iOpt.BsmPrice()\n",
    "print('BSM %s option price with %d percent volatility is %f' %(iOpt.Type, vol*100, call_value))"
   ]
  },
  {
   "cell_type": "markdown",
   "metadata": {
    "collapsed": false
   },
   "source": [
    "**Answer for (1)**"
   ]
  },
  {
   "cell_type": "code",
   "execution_count": 3,
   "metadata": {
    "collapsed": false
   },
   "outputs": [
    {
     "name": "stdout",
     "output_type": "stream",
     "text": [
      "The difference of call values is 10.539938\n"
     ]
    }
   ],
   "source": [
    "MarketPrice = 9.23\n",
    "print('The difference of call values is %f' %np.abs(call_value - MarketPrice))"
   ]
  },
  {
   "cell_type": "code",
   "execution_count": 4,
   "metadata": {
    "collapsed": false
   },
   "outputs": [
   ],
   "source": [
    "#Compute the implied volatility.\n",
    "from IVol import IVol"
   ]
  },
  {
   "cell_type": "markdown",
   "metadata": {
    "collapsed": false
   },
   "source": [
    "**Answer for (2)**"
   ]
  },
  {
   "cell_type": "code",
   "execution_count": 5,
   "metadata": {
    "collapsed": false
   },
   "outputs": [
    {
     "name": "stdout",
     "output_type": "stream",
     "text": [
      "Implied Volatility is 0.118242\n"
     ]
    }
   ],
   "source": [
    "print('Implied Volatility is %f' %IVol(iOpt, MarketPrice))"
   ]
  },
  {
   "cell_type": "markdown",
   "metadata": {
    "collapsed": false
   },
   "source": [
    "**Script is given below**"
   ]
  },
  {
   "cell_type": "code",
   "execution_count": 6,
   "metadata": {
    "collapsed": false
   },
   "outputs": [
    {
     "name": "stdout",
     "output_type": "stream",
     "text": [
      "#!/usr/bin/env python3\r\n",
      "# -*- coding: utf-8 -*-\r\n",
      "\"\"\"\r\n",
      "Created on Sat Sep 29 18:22:51 2018\r\n",
      "\r\n",
      "@author: songqsh\r\n",
      "\"\"\"\r\n",
      "\r\n",
      "import numpy as np\r\n",
      "import scipy.stats as ss\r\n",
      "\r\n",
      "\r\n",
      "class BsmEuOptions:\r\n",
      "    def __init__(self, Type = 'Call', \r\n",
      "                 Strike = 100., \r\n",
      "                 Maturity = 1., \r\n",
      "                 Spot = 100., \r\n",
      "                 Vol = 0.1, \r\n",
      "                 Rate = 0.02,\r\n",
      "                 #MarketPrice = 10.\r\n",
      "                ):\r\n",
      "        '''\r\n",
      "\r\n",
      "        Initialize Black-Scholes-Merton European option parameters\r\n",
      "        ==========\r\n",
      "        Type: 'Call' or 'Put'\r\n",
      "        Strike: float\r\n",
      "                strike price\r\n",
      "        Maturity: float\r\n",
      "                Time to maturity in year\r\n",
      "        Spot: float\r\n",
      "                Initial Stock price\r\n",
      "        Vol: float\r\n",
      "            Volatility\r\n",
      "        Rate: float\r\n",
      "            interest rate\r\n",
      "        Market Price: float\r\n",
      "            Present option price quoted by market\r\n",
      "        '''             \r\n",
      "        \r\n",
      "        self.Type = Type\r\n",
      "        self. Strike = Strike\r\n",
      "        self.Maturity = Maturity\r\n",
      "        self.Spot = Spot\r\n",
      "        self.Vol = Vol\r\n",
      "        self.Rate = Rate\r\n",
      "\r\n",
      "\r\n",
      "\r\n",
      "\r\n",
      "\r\n",
      "    '''\r\n",
      "    Payoff function\r\n",
      "    \r\n",
      "    '''        \r\n",
      "    def Payoff(self, ST):\r\n",
      "        '''\r\n",
      "           ================\r\n",
      "           Inputs:\r\n",
      "               ST: float\r\n",
      "               Exercise stock price\r\n",
      "               \r\n",
      "               Returns:\r\n",
      "                   float, \r\n",
      "                   Payoff value\r\n",
      "           ================\r\n",
      "        '''\r\n",
      "        if self.Type == 'Call':\r\n",
      "            return np.max([0, ST - self.Strike])\r\n",
      "        else:\r\n",
      "            return np.max([0, - ST + self.Strike])\r\n",
      "\r\n",
      "    '''    \r\n",
      "    Calculation of option price by BSM formula\r\n",
      "    ===============\r\n",
      "    Inputs:\r\n",
      "        Vol: optional, float, by default is 100\r\n",
      "            Volatility override\r\n",
      "    Returns:\r\n",
      "        float,\r\n",
      "        BSM price, if Vol is given with a float less than 1, then \r\n",
      "        that Volatility will be used for computation\r\n",
      "    '''\r\n",
      "    def BsmPrice(self, Vol=100):\r\n",
      "        if Vol >1:\r\n",
      "            Vol = self.Vol\r\n",
      "\r\n",
      "        d1 = (np.log(self.Spot / self.Strike) + \\\r\n",
      "              (self.Rate + 0.5 * Vol ** 2) * \\\r\n",
      "              self.Maturity) / (Vol * np.sqrt(self.Maturity))\r\n",
      "        d2 = d1 - Vol * np.sqrt(self.Maturity)\r\n",
      "        call_value = self.Spot * ss.norm.cdf(d1) - \\\r\n",
      "            np.exp(-self.Rate * self.Maturity) * self.Strike * ss.norm.cdf(d2)\r\n",
      "        if self.Type == 'Call':\r\n",
      "            return call_value\r\n",
      "        else:\r\n",
      "            return call_value - self.Spot + \\\r\n",
      "                np.exp(-self.Rate * self.Maturity) * self.Strike\r\n",
      "                \r\n",
      "  \r\n",
      "        \r\n",
      "        \r\n",
      "        \r\n",
      "    \r\n",
      "if __name__ == \"__main__\":\r\n",
      "    iOpt = BsmEuOptions(\\\r\n",
      "                        Spot = 100, Strike = 110, Rate = 0.0475, \\\r\n",
      "                        Vol = 0.2, Maturity = 1., Type = 'Put'\\\r\n",
      "                        )\r\n",
      "    print('BSM %s option price is %f' %(iOpt.Type, iOpt.BsmPrice()))\r\n",
      "    \r\n",
      "    "
     ]
    }
   ],
   "source": [
    "%cat BsmOption.py"
   ]
  },
  {
   "cell_type": "code",
   "execution_count": 7,
   "metadata": {
    "collapsed": false
   },
   "outputs": [
    {
     "name": "stdout",
     "output_type": "stream",
     "text": [
      "#!/usr/bin/env python3\r\n",
      "# -*- coding: utf-8 -*-\r\n",
      "\"\"\"\r\n",
      "Created on Sat Sep 29 19:26:06 2018\r\n",
      "\r\n",
      "@author: songqsh\r\n",
      "\"\"\"\r\n",
      "\r\n",
      "\r\n",
      "from scipy import optimize\r\n",
      "import BsmOption as BO\r\n",
      "\r\n",
      "def IVol(Option, MarketPrice):\r\n",
      "    \"\"\"\r\n",
      "    Inputs:\r\n",
      "    =======    \r\n",
      "        Option: BO.BsmEuOptions class\r\n",
      "        MarketPrice: float, price quoted from market\r\n",
      "    Outputs:\r\n",
      "    ========\r\n",
      "        float,\r\n",
      "        Implied volatility\r\n",
      "    \"\"\"\r\n",
      "    InitVol = .3\r\n",
      "    error = lambda vol: (Option.BsmPrice(vol) - MarketPrice)**2\r\n",
      "    opt = optimize.fmin(error, InitVol, disp = False);\r\n",
      "    return opt[0]\r\n",
      "\r\n",
      "\r\n",
      "    \r\n",
      "if __name__ == \"__main__\":\r\n",
      "    iOpt = BO.BsmEuOptions(\\\r\n",
      "                        Spot = 290.68, Strike = 288, Rate = 0.02, \\\r\n",
      "                        Vol = 0.3, Maturity = 1/12, Type = 'Call'\\\r\n",
      "                        )\r\n",
      "    MarketPrice = 9.23\r\n",
      "    print('Implied Volatility is', IVol(iOpt, MarketPrice))"
     ]
    }
   ],
   "source": [
    "%cat IVol.py"
   ]
  },
  {
   "cell_type": "code",
   "execution_count": 0,
   "metadata": {
    "collapsed": false
   },
   "outputs": [
   ],
   "source": [
   ]
  }
 ],
 "metadata": {
  "kernelspec": {
   "display_name": "Python 3 (Anaconda 5)",
   "language": "python",
   "name": "anaconda5"
  }
 },
 "nbformat": 4,
 "nbformat_minor": 0
}