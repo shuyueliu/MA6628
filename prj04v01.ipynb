{
 "cells": [
  {
   "cell_type": "markdown",
   "metadata": {
    "collapsed": false
   },
   "source": [
    "##### Prj04v01.Problem description\n",
    "\n",
    "Consider the following data sets:\n",
    "\n",
    "- Today: Sep 27, 2018\n",
    "\n",
    "- Spot price: 290.68\n",
    "\n",
    "- Maturity: Dec 31, 2018\n",
    "\n",
    "- Strike: 288\n",
    "\n",
    "- rate: 0.02 (from https://www.treasury.gov/resource-center/data-chart-center/interest-rates/Pages/TextView.aspx?data=yield)\n",
    "\n",
    "- Market call price: 9.23\n",
    "\n",
    "**Todo**\n",
    "\n",
    "1. If the volatility is $30\\%$, what is the difference between BSM call price and market call price?\n",
    "2. Compute the implied volatility."
   ]
  },
  {
   "cell_type": "code",
   "execution_count": 0,
   "metadata": {
    "collapsed": false
   },
   "outputs": [
   ],
   "source": [
   ]
  },
  {
   "cell_type": "markdown",
   "metadata": {
    "collapsed": false
   },
   "source": [
    "**Script is shown below**"
   ]
  },
  {
   "cell_type": "code",
   "execution_count": 22,
   "metadata": {
    "collapsed": false
   },
   "outputs": [
    {
     "name": "stdout",
     "output_type": "stream",
     "text": [
      "#\r\n",
      "# Black-Scholes-Merton (1973) European Call & Put Valuation\r\n",
      "# 05_com/BSM_option_valuation.py\r\n",
      "#\r\n",
      "# (c) Dr. Yves J. Hilpisch\r\n",
      "# Derivatives Analytics with Python\r\n",
      "#\r\n",
      "import math\r\n",
      "import numpy as np\r\n",
      "import matplotlib.pyplot as plt\r\n",
      "import scipy.stats as ss\r\n",
      "\r\n",
      "\r\n",
      "\r\n",
      "def d1f(St, K, t, T, r, sigma):\r\n",
      "    ''' Black-Scholes-Merton d1 function.\r\n",
      "        Parameters see e.g. BSM_call_value function. '''\r\n",
      "    d1 = (math.log(St / K) + (r + 0.5 * sigma ** 2)\r\n",
      "          * (T - t)) / (sigma * math.sqrt(T - t))\r\n",
      "    return d1\r\n",
      "\r\n",
      "\r\n",
      "#\r\n",
      "# Valuation Functions\r\n",
      "#\r\n",
      "\r\n",
      "def BSM_call_value(St, K, t, T, r, sigma):\r\n",
      "    ''' Calculates Black-Scholes-Merton European call option value.\r\n",
      "\r\n",
      "    Parameters\r\n",
      "    ==========\r\n",
      "    St : float\r\n",
      "        stock/index level at time t\r\n",
      "    K : float\r\n",
      "        strike price\r\n",
      "    t : float\r\n",
      "        valuation date\r\n",
      "    T : float\r\n",
      "        date of maturity/time-to-maturity if t = 0; T > t\r\n",
      "    r : float\r\n",
      "        constant, risk-less short rate\r\n",
      "    sigma : float\r\n",
      "        volatility\r\n",
      "\r\n",
      "    Returns\r\n",
      "    =======\r\n",
      "    call_value : float\r\n",
      "        European call present value at t\r\n",
      "    '''\r\n",
      "    d1 = d1f(St, K, t, T, r, sigma)\r\n",
      "    d2 = d1 - sigma * math.sqrt(T - t)\r\n",
      "    call_value = St * ss.norm.cdf(d1) - math.exp(-r * (T - t)) * K * ss.norm.cdf(d2)\r\n",
      "    return call_value\r\n",
      "\r\n",
      "\r\n",
      "def BSM_put_value(St, K, t, T, r, sigma):\r\n",
      "    ''' Calculates Black-Scholes-Merton European put option value.\r\n",
      "\r\n",
      "    Parameters\r\n",
      "    ==========\r\n",
      "    St : float\r\n",
      "        stock/index level at time t\r\n",
      "    K : float\r\n",
      "        strike price\r\n",
      "    t : float\r\n",
      "        valuation date\r\n",
      "    T : float\r\n",
      "        date of maturity/time-to-maturity if t = 0; T > t\r\n",
      "    r : float\r\n",
      "        constant, risk-less short rate\r\n",
      "    sigma : float\r\n",
      "        volatility\r\n",
      "\r\n",
      "    Returns\r\n",
      "    =======\r\n",
      "    put_value : float\r\n",
      "        European put present value at t\r\n",
      "    '''\r\n",
      "    put_value = BSM_call_value(St, K, t, T, r, sigma) \\\r\n",
      "        - St + math.exp(-r * (T - t)) * K\r\n",
      "    return put_value\r\n",
      "\r\n",
      "\r\n",
      "\r\n"
     ]
    }
   ],
   "source": [
    "%cat BSM_option_valuation.py"
   ]
  },
  {
   "cell_type": "code",
   "execution_count": 14,
   "metadata": {
    "collapsed": false
   },
   "outputs": [
    {
     "name": "stdout",
     "output_type": "stream",
     "text": [
      "#!/usr/bin/env python3\r\n",
      "# -*- coding: utf-8 -*-\r\n",
      "\"\"\"\r\n",
      "\r\n",
      "@author: songqsh, SID: 123456\r\n",
      "\"\"\"\r\n",
      "\r\n",
      "from scipy import optimize\r\n",
      "from BSM_option_valuation import *\r\n",
      "\r\n",
      "def IVolBsm(S0, K, T, r, P0):\r\n",
      "    \"\"\"\r\n",
      "    Inputs:\r\n",
      "        S0: spot price\r\n",
      "        K: strike\r\n",
      "        T: time to maturity in year\r\n",
      "        r: rate\r\n",
      "        P0: market price\r\n",
      "    Outputs:\r\n",
      "        Implied volatility\r\n",
      "    \"\"\"\r\n",
      "    InitVol = .3\r\n",
      "    error = lambda sigma: (BSM_call_value(S0, K, 0, T, r, sigma) - P0)**2\r\n",
      "    opt = optimize.fmin(error, InitVol);\r\n",
      "    return opt[0]\r\n",
      "\r\n",
      "if __name__ == \"__main__\":\r\n",
      "    print('Implied volatility is', IVolBsm(100, 100, 1, .02, 9))\r\n",
      "\r\n",
      "\r\n",
      "\r\n",
      "\r\n",
      "\r\n"
     ]
    }
   ],
   "source": [
    "%cat ImpliedVolatility.py"
   ]
  },
  {
   "cell_type": "code",
   "execution_count": 15,
   "metadata": {
    "collapsed": false
   },
   "outputs": [
   ],
   "source": [
    "%reset -f"
   ]
  },
  {
   "cell_type": "code",
   "execution_count": 16,
   "metadata": {
    "collapsed": false
   },
   "outputs": [
   ],
   "source": [
    "import numpy as np"
   ]
  },
  {
   "cell_type": "code",
   "execution_count": 17,
   "metadata": {
    "collapsed": false
   },
   "outputs": [
   ],
   "source": [
    "from BSM_option_valuation import *"
   ]
  },
  {
   "cell_type": "code",
   "execution_count": 18,
   "metadata": {
    "collapsed": false
   },
   "outputs": [
   ],
   "source": [
    "from ImpliedVolatility import IVolBsm"
   ]
  },
  {
   "cell_type": "code",
   "execution_count": 19,
   "metadata": {
    "collapsed": false
   },
   "outputs": [
   ],
   "source": [
    "Today = np.datetime64('2018-09-27')\n",
    "Maturity = np.datetime64('2018-12-31')\n",
    "T = (Maturity - Today)/np.timedelta64(1,'D')/365 #time to maturity in year\n",
    "S0 = 290.68\n",
    "K = 288.\n",
    "r = .02\n",
    "Call = 9.23"
   ]
  },
  {
   "cell_type": "markdown",
   "metadata": {
    "collapsed": false
   },
   "source": [
    "**The answer for (1)**"
   ]
  },
  {
   "cell_type": "code",
   "execution_count": 20,
   "metadata": {
    "collapsed": false
   },
   "outputs": [
    {
     "name": "stdout",
     "output_type": "stream",
     "text": [
      "The difference of computed call value and market value is 10.539938\n"
     ]
    }
   ],
   "source": [
    "call_value = BSM_call_value(S0, K, 0, T, r, sigma=0.3)\n",
    "print('The difference of computed call value and market value is %f' %np.abs(call_value - Call))"
   ]
  },
  {
   "cell_type": "markdown",
   "metadata": {
    "collapsed": false
   },
   "source": [
    "**The answer for (2)**"
   ]
  },
  {
   "cell_type": "code",
   "execution_count": 21,
   "metadata": {
    "collapsed": false,
    "scrolled": true
   },
   "outputs": [
    {
     "name": "stdout",
     "output_type": "stream",
     "text": [
      "Optimization terminated successfully.\n",
      "         Current function value: 0.000000\n",
      "         Iterations: 15\n",
      "         Function evaluations: 30\n",
      "Implied volatility is 0.118242\n"
     ]
    }
   ],
   "source": [
    "print('Implied volatility is %f' %IVolBsm(S0, K, T, r, Call))"
   ]
  },
  {
   "cell_type": "code",
   "execution_count": 0,
   "metadata": {
    "collapsed": false
   },
   "outputs": [
   ],
   "source": [
   ]
  }
 ],
 "metadata": {
  "kernelspec": {
   "display_name": "Python 3 (Anaconda 5)",
   "language": "python",
   "name": "anaconda5"
  },
  "language_info": {
   "codemirror_mode": {
    "name": "ipython",
    "version": 3
   },
   "file_extension": ".py",
   "mimetype": "text/x-python",
   "name": "python",
   "nbconvert_exporter": "python",
   "pygments_lexer": "ipython3",
   "version": "3.6.5"
  }
 },
 "nbformat": 4,
 "nbformat_minor": 0
}