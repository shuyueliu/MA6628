{
 "cells": [
  {
   "cell_type": "markdown",
   "metadata": {
    "collapsed": false
   },
   "source": [
    "##### Prj02. Problem description\n",
    "#####\n",
    "\n",
    "\n",
    "**To do**\n",
    "\n",
    "Use \"BSM_option_valuation\" module to find the BSM asian option value with the following parameters\n",
    "\n",
    "\n",
    "##### My answer:\n",
    "The price of Geometric asian option is (use BSM to evaluate):\n",
    "2.73"
   ]
  },
  {
   "cell_type": "markdown",
   "metadata": {
    "collapsed": false
   },
   "source": [
    "##### This is an application of BSM evaluation to Geometric asian option price\n",
    "\n",
    "Geometric asian call option with maturity $T$ and strike $K$ has its pay off as\n",
    "$$C(T) = (A(T) - K)^+,$$\n",
    "where $A(T)$ is geometric average of the stock price at times\n",
    "$0 \\le t_1 < t_2, \\ldots, < t_n = T$, i.e.\n",
    "$$A(T) = (S(t_1)S(t_2) \\ldots S(t_n))^{1/n}.$$\n",
    "\n",
    "The call price can be thus written by\n",
    "$$C_0 = \\mathbb E [e^{-rT} (A(T) - K)^+].$$\n",
    "#####\n",
    "\n",
    "\n",
    "**From BS model,** we can assume the stock price follows the lognormal distribution, which can be express as: $$ln\\frac{S_t}{S_0}  \\sim \\mathcal N((r-\\frac{1}{2}\\sigma^2)T,\\sigma^2T)$$\n",
    "with the following parameters:\n",
    "* $S_0$: The initial stock price\n",
    "* $S_t$: The initial stock price at t\n",
    "* $r$: The Interest rate\n",
    "* $\\sigma$: votatility \n",
    "\n",
    "So we can get the Call option price and Put option price:\n",
    "$$C_0 = e^{-rT}\\mathbb E[(S_T-K)^+]$  =  S_0\\Phi(d_1) - K e^{-rT}\\Phi(d_2),$$\n",
    "$$P_0 = e^{-rT}\\mathbb E[(S_T-K)^-]$  =  K e^{-rT}\\Phi(-d_2)-S_0\\Phi(-d_1),$$\n",
    "where \n",
    "$$d_1= \\frac{(r + \\frac 1 2 \\sigma^2) T - \\ln \\frac{K}{S_0}}{\\sigma \\sqrt T},$$\n",
    "$$d_2 = \\frac{(r - \\frac 1 2 \\sigma^2) T - \\ln \\frac{K}{S_0}}{\\sigma \\sqrt T},$$\n",
    "#####\n",
    "\n",
    "**Under the above BS model,** one can show that the distribution of $A(T)$ is again a lognormal under EMM in the form of\n",
    "$$A_T = S_0 \\exp \\{ (\\hat r - \\frac 1 2 \\hat \\sigma^2)T + \\hat \\sigma \\sqrt T \\hat Z\\}.$$\n",
    "In the above, $\\hat Z$ is a standard normal random variable, $\\hat \\sigma$ is\n",
    "$$\\hat \\sigma = \\frac{\\sigma}{n} \\sqrt{\\frac{(n+1)(2n+1)}{6}}$$\n",
    "and $\\hat r$ is\n",
    "$$\\hat r = \\frac 1 2 \\hat \\sigma^2 + \\frac{n+1}{2n}(r - \\frac 1 2 \\sigma^2).$$\n",
    "Then, by fundamental asset pricing theory, we have GAC price by\n",
    "$$\\Pi_0^c = e^{(\\hat r - r)T} \\mathbb E [ e^{-\\hat r T} (A_T - K)^+].$$"
   ]
  },
  {
   "cell_type": "code",
   "execution_count": 2,
   "metadata": {
    "collapsed": false
   },
   "outputs": [
   ],
   "source": [
    "%reset -f\n",
    "# BSM function\n",
    "import math\n",
    "import numpy as np\n",
    "import matplotlib.pyplot as plt\n",
    "import scipy.stats as ss\n",
    "\n",
    "\n",
    "def d1f(St, K, t, T, r, sigma):\n",
    "    d1 = (math.log(St / K) + (r + 0.5 * sigma ** 2) * (T - t)) / (sigma * math.sqrt(T - t))\n",
    "    return d1\n",
    "def BSM_call_value(St, K, t, T, r, sigma):\n",
    "        d2 = d1f(St, K, t, T, r, sigma) - sigma * math.sqrt(T - t)\n",
    "        call_value = St * ss.norm.cdf(d1f(St, K, t, T, r, sigma)) - math.exp(-r * (T - t)) * K * ss.norm.cdf(d2)\n",
    "        return call_value"
   ]
  },
  {
   "cell_type": "code",
   "execution_count": 3,
   "metadata": {
    "collapsed": false
   },
   "outputs": [
   ],
   "source": [
    "def Asian_call_value(St,K,t,T,r,sigma,n):\n",
    "    sigma_hat = (sigma/n) * math.sqrt((n+1)*(2*n+1)/6)\n",
    "    sigma_hat = sigma/n * math.sqrt((n+1) * (2*n+1) /6)\n",
    "    r_hat = 0.5*sigma_hat**2 + ((n+1) / (2*n))* (r - 0.5*(sigma**2))\n",
    "    Asian_call_value = math.exp((r_hat-r)*T) * BSM_call_value(St,K,t,T,r_hat,sigma_hat)\n",
    "    return(Asian_call_value)"
   ]
  },
  {
   "cell_type": "code",
   "execution_count": 4,
   "metadata": {
    "collapsed": false
   },
   "outputs": [
   ],
   "source": [
    "#An example is given here\n",
    "S0 = 100.0 #initial stock price\n",
    "K = 110.0 #strike\n",
    "r=0.0475 #interest rate\n",
    "sigma = 0.20 #vol\n",
    "T = 1. #maturity\n",
    "Otype='C' #Call type\n",
    "n = 4 #number of periods\n",
    "t = np.linspace(0., T, n+1)[1:] #times to be used for geometric averaging stock price"
   ]
  },
  {
   "cell_type": "code",
   "execution_count": 5,
   "metadata": {
    "collapsed": false
   },
   "outputs": [
    {
     "data": {
      "text/plain": [
       "5.943273183452838"
      ]
     },
     "execution_count": 5,
     "metadata": {
     },
     "output_type": "execute_result"
    }
   ],
   "source": [
    "BSM_call_value(S0, K, 0, T, r, sigma)"
   ]
  },
  {
   "cell_type": "code",
   "execution_count": 6,
   "metadata": {
    "collapsed": false
   },
   "outputs": [
    {
     "data": {
      "text/plain": [
       "2.7329867250697175"
      ]
     },
     "execution_count": 6,
     "metadata": {
     },
     "output_type": "execute_result"
    }
   ],
   "source": [
    "Asian_call_value(S0, K, 0, T, r, sigma,n)"
   ]
  },
  {
   "cell_type": "code",
   "execution_count": 0,
   "metadata": {
    "collapsed": false
   },
   "outputs": [
   ],
   "source": [
   ]
  }
 ],
 "metadata": {
  "kernelspec": {
   "display_name": "Python 3 (Anaconda 5)",
   "language": "python",
   "name": "anaconda5"
  },
  "language_info": {
   "codemirror_mode": {
    "name": "ipython",
    "version": 3
   },
   "file_extension": ".py",
   "mimetype": "text/x-python",
   "name": "python",
   "nbconvert_exporter": "python",
   "pygments_lexer": "ipython3",
   "version": "3.6.5"
  }
 },
 "nbformat": 4,
 "nbformat_minor": 0
}