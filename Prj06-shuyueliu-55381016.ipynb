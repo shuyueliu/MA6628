{
 "cells": [
  {
   "cell_type": "markdown",
   "metadata": {
    "collapsed": false
   },
   "source": [
    "### Prj06\n",
    "\n",
    "Approximate the price $e^{-rT}\\mathbb E [F(S)]$, where\n",
    "\n",
    "- Asset follows $S = GBM(S_0, r, \\sigma)$;\n",
    "- Knock-in payoff is given as\n",
    "$$F(S) = 1000 \\cdot I(S_T > K) \\cdot I\\Big(\\min_{1\\le k \\le m} S(t_k) < H\\Big).$$\n",
    "\n",
    "__Parameters__\n",
    "\n",
    "- $r = 5\\%, \\sigma = 15\\%, S(0) = 95$\n",
    "- $T = 0.25, m = 50, H = 85, K = 96.$\n",
    "- $k = 1000$, $n = 1000$\n",
    "\n",
    "__Todo__\n",
    "\n",
    "- Repeat $k$ times of the ordinary MC, with $n$ simulation for each MC. Find mean, MSE, and confidence interval using $k$ many MC outputs.\n",
    "\n",
    "- Repeat the above procedure with importance sampling.\n",
    "\n",
    "- Explain your decision of new probability in your importance sampling. Is it optimal choice?"
   ]
  },
  {
   "cell_type": "markdown",
   "metadata": {
    "collapsed": false
   },
   "source": [
    "### Answer for question 1"
   ]
  },
  {
   "cell_type": "markdown",
   "metadata": {
    "collapsed": false
   },
   "source": [
    "###### Knock-in payoff is given as below\n",
    "$$F(S) = exp(-rT)\\cdot 1000\\cdot I(S_T > K)\\cdot I(min_{1 \\leq k \\leq m} S (t_k) < H) $$\n",
    "Suppose the underlying asset is modeled through a process of the form\n",
    "$$ S(t_n) = S(0)\\exp(L_n), L_n = \\sum_{i=1}^n X_i, $$\n",
    "with $X_1, X_2,$...i.i.d. and $L(0) = 0. $\n",
    "The option payoff is\n",
    "$$ \\mathrm{Payoff} = 1000 \\cdot I(S_T > K)I\\Big(\\min \\limits_{1\\leq k\\leq m} S(t_k) < H\\Big) $$\n",
    "$$ \\mathrm{Payoff} = 1000 \\cdot I(L_T > c)I\\Big(\\min \\limits_{1\\leq k\\leq m} L(t_k) < -b\\Big) = 1000 \\cdot I(L_m > c, \\tau < m)$$\n",
    "with $ 0 < t_1 < \\cdots < t_m = T $, where $c = \\log(K/S(0)), b = -\\log(H/S(0)) $, $\\tau$ is the first time the random walk $L_n$ drops below $-b$. If $b$ or $c$ is large, the probability of a payoff is small. To increase the probability of a payoff, we need to drive $L_n$ down toward $-b$ and then up toward $c$. \n",
    "Suppose $X_i$ have cumulant generating function $\\phi$ and consider importance sampling estimators of the following form: exponentially twist the distribution of the $X_i$ by some $\\theta_{-}$ until the barrier is crossed"
   ]
  },
  {
   "cell_type": "code",
   "execution_count": 1,
   "metadata": {
    "collapsed": false
   },
   "outputs": [
   ],
   "source": [
    "import scipy.stats as ss\n",
    "import numpy as np\n",
    "import matplotlib.pyplot as plt\n",
    "\n",
    "class GBM():\n",
    "    def __init__(self, Drift, Vol, InitState):\n",
    "        self.Drift = Drift #scalar\n",
    "        self.Vol = Vol #scalar\n",
    "        self.InitState = InitState\n",
    "        self.Mu = lambda x, t: Drift * x\n",
    "        self.Sigma = lambda x, t: Vol * x\n",
    "\n",
    "    def _Wn(self,T,m):\n",
    "        t = np.linspace(0,T,m+1)\n",
    "        Wh = np.zeros(m+1)\n",
    "        for i in range(m):\n",
    "            DeltaW = np.sqrt(t[i+1] - t[i]) * np.random.normal()\n",
    "            Wh[i+1] = Wh[i] + DeltaW\n",
    "        return Wh\n",
    "\n",
    "    def _explicit_sol_(self, t, W_t):\n",
    "        x0 = self.InitState\n",
    "        b = self.Drift\n",
    "        sigma = self.Vol\n",
    "        return x0 * np.exp((b - sigma**2/2.) * t + sigma * W_t)"
   ]
  },
  {
   "cell_type": "code",
   "execution_count": 2,
   "metadata": {
    "collapsed": false
   },
   "outputs": [
    {
     "name": "stdout",
     "output_type": "stream",
     "text": [
      "The final price is  0.5481056792741043\n",
      "The mean is  0.5481056792741043\n",
      "The MSE is  0.247685843621577\n",
      "The 95 percent confidence interval is between -0.447 and 1.543\n"
     ]
    }
   ],
   "source": [
    "## set the main function we will use to solve the question:\n",
    "\n",
    "if __name__ == \"__main__\":\n",
    "    r = 0.05\n",
    "    vol = 0.15\n",
    "    S0 = 95\n",
    "    iGBM = GBM(r,vol,S0)\n",
    "    T = 0.25\n",
    "    m = 50\n",
    "    H = 85\n",
    "    K = 96\n",
    "    k = 1000\n",
    "    n = 1000\n",
    "\n",
    "    Price = np.zeros(n)\n",
    "    for j in range(n):\n",
    "        payoff = 0\n",
    "        for i in range(k):\n",
    "            W_t = iGBM._Wn(T,m)\n",
    "            t = np.linspace(0,T,m+1)\n",
    "            St = iGBM._explicit_sol_(t,W_t)\n",
    "\n",
    "            if St[-1] > K and min(St) < H:\n",
    "                payoff = payoff + 1000\n",
    "        Price[j] = payoff / k*np.exp(-r * T)\n",
    "\n",
    "    print('The final price is ',np.mean(Price))\n",
    "\n",
    "    mean = np.mean(Price)\n",
    "    print('The mean is ',mean)\n",
    "\n",
    "    mse = np.mean((Price - np.mean(Price)**2))\n",
    "    print('The MSE is ',mse)\n",
    "    print('The 95 percent confidence interval is between %4.3f and %4.3f' %(mean - 2*np.sqrt(mse), mean + 2*np.sqrt(mse)))"
   ]
  },
  {
   "cell_type": "markdown",
   "metadata": {
    "collapsed": false
   },
   "source": [
    "### Answer for question 2"
   ]
  },
  {
   "cell_type": "markdown",
   "metadata": {
    "collapsed": false
   },
   "source": [
    "### Project 06\n",
    "\n",
    "###### Knock-in payoff is given as below\n",
    "\n",
    "$$F(S) =exp(-rT) \\cdot 1000\\cdot I(S_T > K)\\cdot I(min_{1 \\leq k \\leq m} S (t_k) < H) $$\n",
    "\n",
    "###### Crude Monte Carlo simulation can be sampled from the below normal random distribution f(x)\n",
    "\n",
    "$$ S_t = S_0 * exp(L_n)  $$\n",
    "$$ L_n = \\sum_{i=1}^{m}X_i  $$\n",
    "$$ X_i \\backsim N((r-\\frac{\\sigma^2}{2})\\delta t,\\sigma^2 \\delta t)  $$\n",
    "\n",
    "###### If Importance Sampling (IS) is adopted, the alternative normal random distribution g(x) and the likelihood ratio are as follows\n",
    "\n",
    "$$ X_i \\backsim N((r-\\frac{\\sigma^2}{2})\\delta t-b,\\sigma^2 \\delta t)  $$\n",
    "$$ \\frac {f(x_1,x_2,...,x_m)}{g(x_1,x_2,...,x_m)} = exp(-\\frac{1}{2}\\sum_{k=1}^{m}{\\frac{(x_k-\\mu)}{\\sigma \\sqrt{\\delta t}}}^2) \\cdot exp(\\frac{1}{2}\\sum_{k=1}^{m}{\\frac{(x_k-\\mu+b)}{\\sigma \\sqrt{\\delta t}}}^2)\n",
    "= exp( \\frac{b}{\\sigma ^2 \\delta t}\\sum_{k=1}^{m}x_k-\\frac{mb}{\\sigma^2}(r-\\frac{\\sigma^2}{2})+\\frac{mb^2}{2 \\sigma^2 \\delta t}     )                                                                            $$\n",
    "\n",
    "###### The payoff is as below (The sampling should follow the alternative pdf g(x))\n",
    "\n",
    "$$ exp(-rT)\\cdot \\frac {f(x_1,x_2,...,x_m)}{g(x_1,x_2,...,x_m)} \\cdot F^{g(x)}(S)$$\n",
    "\n",
    "\n",
    "\n"
   ]
  },
  {
   "cell_type": "code",
   "execution_count": 3,
   "metadata": {
    "collapsed": false
   },
   "outputs": [
   ],
   "source": [
    "import numpy as np\n",
    "import matplotlib.pyplot as plt\n",
    "import math\n",
    "from scipy import stats\n",
    "\n",
    "#risk-free rate\n",
    "r = 0.05\n",
    "#volatility\n",
    "vol = 0.15\n",
    "#initial price\n",
    "S0 = 95\n",
    "#maturity\n",
    "T = 0.25\n",
    "#time steps\n",
    "m = 50\n",
    "#barrier price\n",
    "H = 85\n",
    "#maturity price\n",
    "K = 96\n",
    "#number of MC simulation\n",
    "k = 1000\n",
    "#simulation time for each MC\n",
    "n = 1000\n",
    "\n",
    "#time interval\n",
    "dt=T/m"
   ]
  },
  {
   "cell_type": "markdown",
   "metadata": {
    "collapsed": false
   },
   "source": [
    "###### equivalent mu and sig\n",
    "###### b value determined from the following equation\n",
    "$$ b=\\frac{1}{m} log(\\frac{S_0}{H}) $$"
   ]
  },
  {
   "cell_type": "code",
   "execution_count": 4,
   "metadata": {
    "collapsed": false
   },
   "outputs": [
    {
     "name": "stdout",
     "output_type": "stream",
     "text": [
      "The final payoff is:  0.5354847815486451\n"
     ]
    }
   ],
   "source": [
    "b = math.log(S0/H)/m\n",
    "c = math.log(K/S0)\n",
    "\n",
    "mudt2 = (r - 0.5*vol**2)*dt - b\n",
    "mudt1 = (r - 0.5*vol**2)*dt\n",
    "\n",
    "sidt = vol*np.sqrt(dt)\n",
    "\n",
    "NCrossed = np.zeros(k)\n",
    "\n",
    "#Payoff=np.zeros(k)\n",
    "Times = np.zeros(k)\n",
    "StockVals = np.zeros(k)\n",
    "ISRatio = np.zeros(k)\n",
    "\n",
    "Ncrossed = 0\n",
    "TBreach = 0\n",
    "Price = np.zeros(n)\n",
    "\n",
    "for counter in range(n):\n",
    "    Payoff = np.zeros(k)\n",
    "    for i in range(k):\n",
    "        vetZ = np.random.normal(mudt2,sidt,m)\n",
    "        ##vetZ2 = np.hstack()\n",
    "        vetZ2 = np.hstack((math.log(S0),vetZ))\n",
    "        LogPath = np.cumsum(vetZ2)\n",
    "        St = np.exp(LogPath)\n",
    "\n",
    "\n",
    "        jcross = 0\n",
    "        for j in range(len(St)):\n",
    "            if St[j] < H:\n",
    "                jcross = j\n",
    "                break\n",
    "            #print(jcross)\n",
    "            #the path crosses the lower barrier\n",
    "        if jcross > 0:\n",
    "                \n",
    "            #TBreach = jcross - 1\n",
    "            #Times[Ncrossed] = TBreach * dt\n",
    "            #StockVals[Ncrossed] = St[jcross]\n",
    "            #ISRatio[Ncrossed] = np.exp(TBreach*b**2/2/vol**2/dt+b/vol**2/dt*np.sum(vetZ[1:TBreach])-TBreach*b/vol**2*(r-vol**2/2))\n",
    "            ISRatio[Ncrossed] = np.exp(m*b**2/2/vol**2/dt + b/vol**2/dt*np.sum(vetZ) - m*b/vol**2*(r-vol**2/2))\n",
    "                \n",
    "            if St[-1] > K:\n",
    "                Payoff[Ncrossed] = ISRatio[Ncrossed] * 1000*np.exp(-r*T)\n",
    "                Ncrossed = Ncrossed + 1\n",
    "        \n",
    "    Price[counter] = np.sum(Payoff)/k\n",
    "    #print(counter)\n",
    "print('The final payoff is: ',np.mean(Price))"
   ]
  },
  {
   "cell_type": "code",
   "execution_count": 5,
   "metadata": {
    "collapsed": false
   },
   "outputs": [
    {
     "name": "stdout",
     "output_type": "stream",
     "text": [
      "The mean is  0.5354847815486451\n",
      "The MSE is  0.2487408302784451\n",
      "The 95 percent confidence interval is between -0.462 and 1.533\n"
     ]
    }
   ],
   "source": [
    "mean = np.mean(Price)\n",
    "print('The mean is ',mean)\n",
    "mse = np.mean((Price-np.mean(Price)**2))\n",
    "print('The MSE is ',mse)\n",
    "print('The 95 percent confidence interval is between %4.3f and %4.3f' %(mean - 2*np.sqrt(mse),mean + 2*np.sqrt(mse)))"
   ]
  },
  {
   "cell_type": "markdown",
   "metadata": {
    "collapsed": false
   },
   "source": [
    "### Answer for question 3"
   ]
  },
  {
   "cell_type": "markdown",
   "metadata": {
    "collapsed": false
   },
   "source": [
    "The optimal biased density function should have a similar shape of the original density function but with a thicker tails, in other words, the biased density functio should have a revised drift value as well as an expanded standard deviation. \n",
    "\n",
    "In my selection of biased density function, I only assign an alternative dirft to inrease the chance of crossing the barrier. I assume the logarithmic proportion is distributed evenly along the whole time steps. Although the chance of crossing the barier increases. The change of crossing the exercise price K at maturity date has decreased. So my selection of biased density function is not the optimal.\n",
    "\n",
    "###### Revised drift value\n",
    "$$ b=\\frac{1}{m} log(\\frac{S_0}{H}) $$\n",
    "###### Initial Density Function f(x)\n",
    "$$ X_i \\backsim N((r-\\frac{\\sigma^2}{2})\\delta t,\\sigma^2 \\delta t)  $$\n",
    "###### Biased Density Function g(x)\n",
    "$$ X_i \\backsim N((r-\\frac{\\sigma^2}{2})\\delta t-b,\\sigma^2 \\delta t)  $$"
   ]
  },
  {
   "cell_type": "code",
   "execution_count": 0,
   "metadata": {
    "collapsed": false
   },
   "outputs": [
   ],
   "source": [
   ]
  }
 ],
 "metadata": {
  "kernelspec": {
   "display_name": "Python 3 (Anaconda 5)",
   "language": "python",
   "name": "anaconda5"
  }
 },
 "nbformat": 4,
 "nbformat_minor": 0
}