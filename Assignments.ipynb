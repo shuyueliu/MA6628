{
 "cells": [
  {
   "cell_type": "markdown",
   "metadata": {},
   "source": [
    "# Assignments\n",
    "\n",
    "[Ref] https://github.com/songqsh/6628Prj"
   ]
  },
  {
   "cell_type": "markdown",
   "metadata": {},
   "source": [
    "**Prj01** (L01)\n",
    "\n",
    "A twin prime is a prime number that is either 2 less or 2 more than another prime number, see for details here: https://en.wikipedia.org/wiki/Twin_prime\n",
    "\n",
    "- How many twin primes are bigger than one thousand but smaller than one million?\n",
    "- What is the biggest twin prime you could find?"
   ]
  },
  {
   "cell_type": "markdown",
   "metadata": {},
   "source": [
    "**Prj02.** (L04) This is an application of BSM evaluation to Geometric asian option price\n",
    "\n",
    "Geometric asian call option with maturity $T$ and strike $K$ has its pay off as\n",
    "$$C(T) = (A(T) - K)^+,$$\n",
    "where $A(T)$ is geometric average of the stock price at times\n",
    "$0 \\le t_1 < t_2, \\ldots, < t_n = T$, i.e.\n",
    "$$A(T) = (S(t_1)S(t_2) \\ldots S(t_n))^{1/n}.$$\n",
    "\n",
    "The call price can be thus written by\n",
    "$$C_0 = \\mathbb E [e^{-rT} (A(T) - K)^+].$$\n",
    "\n",
    "**To do**\n",
    "Use \"BSM_option_valuation\" module to find the BSM asian option value with the following parameters\n",
    "\n",
    "\n",
    "\n"
   ]
  },
  {
   "cell_type": "code",
   "execution_count": 2,
   "metadata": {},
   "outputs": [],
   "source": [
    "%reset -f\n",
    "import numpy as np\n",
    "#An example is given here\n",
    "S0 = 100.0 #initial stock price\n",
    "K = 110.0 #strike\n",
    "r=0.0475 #interest rate\n",
    "sigma = 0.20 #vol\n",
    "T = 1. #maturity\n",
    "Otype='C' #Call type\n",
    "n = 4 #number of periods\n",
    "t = np.linspace(0., T, n+1)[1:] #times to be used for geometric averaging stock price"
   ]
  },
  {
   "cell_type": "markdown",
   "metadata": {},
   "source": [
    "**Hint** \n",
    "\n",
    "Under the above BS model, one can show that the distribution of $A(T)$ is again a lognormal under EMM in the form of\n",
    "$$A_T = S_0 \\exp \\{ (\\hat r - \\frac 1 2 \\hat \\sigma^2)T + \\hat \\sigma \\sqrt T \\hat Z\\}.$$\n",
    "In the above, $\\hat Z$ is a standard normal random variable, $\\hat \\sigma$ is\n",
    "$$\\hat \\sigma = \\frac{\\sigma}{n} \\sqrt{\\frac{(n+1)(2n+1)}{6}}$$\n",
    "and $\\hat r$ is\n",
    "$$\\hat r = \\frac 1 2 \\hat \\sigma^2 + \\frac{n+1}{2n}(r - \\frac 1 2 \\sigma^2).$$\n",
    "Then, by fundamental asset pricing theory, we have GAC price by\n",
    "$$\\Pi_0^c = e^{(\\hat r - r)T} \\mathbb E [ e^{-\\hat r T} (A_T - K)^+].$$\n"
   ]
  },
  {
   "cell_type": "markdown",
   "metadata": {},
   "source": [
    "**Prj03**\n",
    "\n",
    "- From Yahoo Finance, download option chain for SPY of the date for the maturity of 1 month, 3 month, 12 month. \n",
    "- Sort the data for the strikes within $2\\%$ of difference from the spot price.\n",
    "- Calibrate BSM vol for three sets of data independently for each maturity.\n",
    "- Merge three sets of data into one, and calibrate BSM vol for entire data sets.\n",
    "- Comment on what you oberved."
   ]
  },
  {
   "cell_type": "markdown",
   "metadata": {},
   "source": [
    "**Prj04**\n",
    "\n",
    "Consider the following data sets:\n",
    "\n",
    "- Today: Sep 27, 2018\n",
    "\n",
    "- Spot price: 290.68\n",
    "\n",
    "- Maturity: Dec 31, 2018\n",
    "\n",
    "- Strike: 288\n",
    "\n",
    "- rate: 0.02 (from https://www.treasury.gov/resource-center/data-chart-center/interest-rates/Pages/TextView.aspx?data=yield)\n",
    "\n",
    "- Market call price: 9.23\n",
    "\n",
    "**Todo**\n",
    "\n",
    "1. If the volatility is $30\\%$, what is the difference between BSM call price and market call price?\n",
    "2. Compute the implied volatility."
   ]
  },
  {
   "cell_type": "code",
   "execution_count": null,
   "metadata": {},
   "outputs": [],
   "source": []
  }
 ],
 "metadata": {
  "kernelspec": {
   "display_name": "Python 3",
   "language": "python",
   "name": "python3"
  },
  "language_info": {
   "codemirror_mode": {
    "name": "ipython",
    "version": 3
   },
   "file_extension": ".py",
   "mimetype": "text/x-python",
   "name": "python",
   "nbconvert_exporter": "python",
   "pygments_lexer": "ipython3",
   "version": "3.6.5"
  }
 },
 "nbformat": 4,
 "nbformat_minor": 2
}
