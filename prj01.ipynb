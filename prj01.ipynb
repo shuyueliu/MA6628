{
 "cells": [
  {
   "cell_type": "markdown",
   "metadata": {
    "collapsed": false
   },
   "source": [
    "A twin prime is a prime number that is either 2 less or 2 more than another prime number, see for details here: https://en.wikipedia.org/wiki/Twin_prime"
   ]
  },
  {
   "cell_type": "markdown",
   "metadata": {
    "collapsed": false
   },
   "source": [
    "##### [Prj01] Problem description\n",
    "###### A twin prime is a prime number that is either 2 less or 2 more than another prime number, see for details here: \n",
    "\n",
    "https://en.wikipedia.org/wiki/Twin_prime\n",
    "- How many twin primes are bigger than one thousand but smaller than one million?\n",
    "- What is the biggest twin prime you could find?"
   ]
  },
  {
   "cell_type": "code",
   "execution_count": 22,
   "metadata": {
    "collapsed": false
   },
   "outputs": [
    {
     "name": "stdout",
     "output_type": "stream",
     "text": [
      "8134\n"
     ]
    }
   ],
   "source": [
    "# Prj01_01: how many twin primes are bigger than one thousand but smaller than one million?\n",
    "\n",
    "import math\n",
    "\n",
    "# find primes:\n",
    "def find_prime(n):\n",
    "    if n < 2:\n",
    "        return 0\n",
    "    if n == 2:\n",
    "        return 1\n",
    "    if n == 3:\n",
    "        return 1\n",
    "    for i in range(2,int(math.sqrt(n)+1),1):\n",
    "        if n % i == 0:\n",
    "            return 0\n",
    "    return 1\n",
    "\n",
    "# find twin primes:\n",
    "count = 0\n",
    "for x in range(1000,1000000,1):\n",
    "    if find_prime(x) * find_prime(x+2) == 1:\n",
    "        count = count + 1\n",
    "#        print(x,x+2)\n",
    "\n",
    "print(count)"
   ]
  },
  {
   "cell_type": "code",
   "execution_count": 23,
   "metadata": {
    "collapsed": false
   },
   "outputs": [
    {
     "name": "stdout",
     "output_type": "stream",
     "text": [
      "9999999701 9999999703\n"
     ]
    }
   ],
   "source": [
    "# Prj01_02:What is the biggest twin prime you could find?\n",
    "import math\n",
    "\n",
    "a=10**10\n",
    "def max_twin_prime(n):\n",
    "    for i in range(n,1,-1):\n",
    "        if find_prime(i) * find_prime(i+2) == 1:\n",
    "            return i\n",
    "print(max_twin_prime(a),max_twin_prime(a)+2)\n",
    "\n",
    "# then keep increasing a, we could find the biggest twin prime."
   ]
  },
  {
   "cell_type": "code",
   "execution_count": 0,
   "metadata": {
    "collapsed": false
   },
   "outputs": [
   ],
   "source": [
   ]
  }
 ],
 "metadata": {
  "kernelspec": {
   "display_name": "Python 3 (Anaconda 5)",
   "language": "python",
   "name": "anaconda5"
  },
  "language_info": {
   "codemirror_mode": {
    "name": "ipython",
    "version": 3
   },
   "file_extension": ".py",
   "mimetype": "text/x-python",
   "name": "python",
   "nbconvert_exporter": "python",
   "pygments_lexer": "ipython3",
   "version": "3.6.5"
  }
 },
 "nbformat": 4,
 "nbformat_minor": 0
}