{
 "cells": [
  {
   "cell_type": "code",
   "execution_count": 22,
   "metadata": {
    "collapsed": false
   },
   "outputs": [
    {
     "name": "stdout",
     "output_type": "stream",
     "text": [
      "8134\n"
     ]
    }
   ],
   "source": [
    "# Prj01_01: how many twin primes are bigger than one thousand but smaller than one million?\n",
    "\n",
    "import math\n",
    "\n",
    "# find primes:\n",
    "def find_prime(n):\n",
    "    if n < 2:\n",
    "        return 0\n",
    "    if n == 2:\n",
    "        return 1\n",
    "    if n == 3:\n",
    "        return 1\n",
    "    for i in range(2,int(math.sqrt(n)+1),1):\n",
    "        if n % i == 0:\n",
    "            return 0\n",
    "    return 1\n",
    "\n",
    "# find twin primes:\n",
    "count = 0\n",
    "for x in range(1000,1000000,1):\n",
    "    if find_prime(x) * find_prime(x+2) == 1:\n",
    "        count = count + 1\n",
    "#        print(x,x+2)\n",
    "\n",
    "print(count)"
   ]
  },
  {
   "cell_type": "code",
   "execution_count": 23,
   "metadata": {
    "collapsed": false
   },
   "outputs": [
    {
     "name": "stdout",
     "output_type": "stream",
     "text": [
      "9999999701 9999999703\n"
     ]
    }
   ],
   "source": [
    "# Prj01_02:What is the biggest twin prime you could find?\n",
    "import math\n",
    "\n",
    "a=10**10\n",
    "def max_twin_prime(n):\n",
    "    for i in range(n,1,-1):\n",
    "        if find_prime(i) * find_prime(i+2) == 1:\n",
    "            return i\n",
    "print(max_twin_prime(a),max_twin_prime(a)+2)\n",
    "\n",
    "# then keep increasing a, we could find the biggest twin prime."
   ]
  },
  {
   "cell_type": "code",
   "execution_count": 0,
   "metadata": {
    "collapsed": false
   },
   "outputs": [
   ],
   "source": [
   ]
  }
 ],
 "metadata": {
  "kernelspec": {
   "display_name": "Python 3 (Anaconda 5)",
   "language": "python",
   "name": "anaconda5"
  }
 },
 "nbformat": 4,
 "nbformat_minor": 0
}