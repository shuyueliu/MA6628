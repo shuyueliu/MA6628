{
 "cells": [
  {
   "cell_type": "markdown",
   "metadata": {
    "collapsed": false
   },
   "source": [
    "##### Prj02. Problem description\n",
    "\n",
    "This is an application of BSM evaluation to Geometric asian option price\n",
    "\n",
    "Geometric asian call option with maturity $T$ and strike $K$ has its pay off as\n",
    "$$C(T) = (A(T) - K)^+,$$\n",
    "where $A(T)$ is geometric average of the stock price at times\n",
    "$0 \\le t_1 < t_2, \\ldots, < t_n = T$, i.e.\n",
    "$$A(T) = (S(t_1)S(t_2) \\ldots S(t_n))^{1/n}.$$\n",
    "\n",
    "The call price can be thus written by\n",
    "$$C_0 = \\mathbb E [e^{-rT} (A(T) - K)^+].$$\n",
    "\n",
    "**To do**\n",
    "\n",
    "Use \"BSM_option_valuation\" module to find the BSM asian option value with the following parameters"
   ]
  },
  {
   "cell_type": "code",
   "execution_count": 10,
   "metadata": {
    "collapsed": false
   },
   "outputs": [
   ],
   "source": [
    "%reset -f\n",
    "import numpy as np\n",
    "#An example is given here\n",
    "S0 = 100.0 #initial stock price\n",
    "K = 110.0 #strike\n",
    "r=0.0475 #interest rate\n",
    "sigma = 0.20 #vol\n",
    "T = 1. #maturity\n",
    "Otype='C' #Call type\n",
    "n = 4 #number of periods\n",
    "t = np.linspace(0., T, n+1)[1:] #times to be used for geometric averaging stock price"
   ]
  },
  {
   "cell_type": "markdown",
   "metadata": {
    "collapsed": false
   },
   "source": [
    "**Hint** \n",
    "\n",
    "Under the above BS model, one can show that the distribution of $A(T)$ is again a lognormal under EMM in the form of\n",
    "$$A_T = S_0 \\exp \\{ (\\hat r - \\frac 1 2 \\hat \\sigma^2)T + \\hat \\sigma \\sqrt T \\hat Z\\}.$$\n",
    "In the above, $\\hat Z$ is a standard normal random variable, $\\hat \\sigma$ is\n",
    "$$\\hat \\sigma = \\frac{\\sigma}{n} \\sqrt{\\frac{(n+1)(2n+1)}{6}}$$\n",
    "and $\\hat r$ is\n",
    "$$\\hat r = \\frac 1 2 \\hat \\sigma^2 + \\frac{n+1}{2n}(r - \\frac 1 2 \\sigma^2).$$\n",
    "Then, by fundamental asset pricing theory, we have GAC price by\n",
    "$$\\Pi_0^c = e^{(\\hat r - r)T} \\mathbb E [ e^{-\\hat r T} (A_T - K)^+].$$"
   ]
  },
  {
   "cell_type": "code",
   "execution_count": 9,
   "metadata": {
    "collapsed": false
   },
   "outputs": [
    {
     "name": "stdout",
     "output_type": "stream",
     "text": [
      "#\r\n",
      "# Black-Scholes-Merton (1973) European Call & Put Valuation\r\n",
      "# 05_com/BSM_option_valuation.py\r\n",
      "#\r\n",
      "# (c) Dr. Yves J. Hilpisch\r\n",
      "# Derivatives Analytics with Python\r\n",
      "#\r\n",
      "import math\r\n",
      "import numpy as np\r\n",
      "import matplotlib.pyplot as plt\r\n",
      "import scipy.stats as ss\r\n",
      "\r\n",
      "\r\n",
      "\r\n",
      "def d1f(St, K, t, T, r, sigma):\r\n",
      "    ''' Black-Scholes-Merton d1 function.\r\n",
      "        Parameters see e.g. BSM_call_value function. '''\r\n",
      "    d1 = (math.log(St / K) + (r + 0.5 * sigma ** 2)\r\n",
      "          * (T - t)) / (sigma * math.sqrt(T - t))\r\n",
      "    return d1\r\n",
      "\r\n",
      "\r\n",
      "#\r\n",
      "# Valuation Functions\r\n",
      "#\r\n",
      "\r\n",
      "def BSM_call_value(St, K, t, T, r, sigma):\r\n",
      "    ''' Calculates Black-Scholes-Merton European call option value.\r\n",
      "\r\n",
      "    Parameters\r\n",
      "    ==========\r\n",
      "    St : float\r\n",
      "        stock/index level at time t\r\n",
      "    K : float\r\n",
      "        strike price\r\n",
      "    t : float\r\n",
      "        valuation date\r\n",
      "    T : float\r\n",
      "        date of maturity/time-to-maturity if t = 0; T > t\r\n",
      "    r : float\r\n",
      "        constant, risk-less short rate\r\n",
      "    sigma : float\r\n",
      "        volatility\r\n",
      "\r\n",
      "    Returns\r\n",
      "    =======\r\n",
      "    call_value : float\r\n",
      "        European call present value at t\r\n",
      "    '''\r\n",
      "    d1_1 = d1f(St, K, t, T, r, sigma)\r\n",
      "    d2 = d1_1 - sigma * math.sqrt(T - t)\r\n",
      "    call_value = St * ss.norm.cdf(d1_1) - math.exp(-r * (T - t)) * K * ss.norm.cdf(d2)\r\n",
      "    return call_value\r\n",
      "\r\n",
      "\r\n",
      "def BSM_put_value(St, K, t, T, r, sigma):\r\n",
      "    ''' Calculates Black-Scholes-Merton European put option value.\r\n",
      "\r\n",
      "    Parameters\r\n",
      "    ==========\r\n",
      "    St : float\r\n",
      "        stock/index level at time t\r\n",
      "    K : float\r\n",
      "        strike price\r\n",
      "    t : float\r\n",
      "        valuation date\r\n",
      "    T : float\r\n",
      "        date of maturity/time-to-maturity if t = 0; T > t\r\n",
      "    r : float\r\n",
      "        constant, risk-less short rate\r\n",
      "    sigma : float\r\n",
      "        volatility\r\n",
      "\r\n",
      "    Returns\r\n",
      "    =======\r\n",
      "    put_value : float\r\n",
      "        European put present value at t\r\n",
      "    '''\r\n",
      "    put_value = BSM_call_value(St, K, t, T, r, sigma) \\\r\n",
      "        - St + math.exp(-r * (T - t)) * K\r\n",
      "    return put_value\r\n",
      "\r\n",
      "\r\n",
      "\r\n"
     ]
    }
   ],
   "source": [
    "%cat BSM_option_valuation.py"
   ]
  },
  {
   "cell_type": "code",
   "execution_count": 2,
   "metadata": {
    "collapsed": false
   },
   "outputs": [
   ],
   "source": [
    "%reset -f\n",
    "# BSM function\n",
    "import math\n",
    "import numpy as np\n",
    "import matplotlib.pyplot as plt\n",
    "import scipy.stats as ss\n",
    "\n",
    "\n",
    "def d1f(St, K, t, T, r, sigma):\n",
    "    d1 = (math.log(St / K) + (r + 0.5 * sigma ** 2) * (T - t)) / (sigma * math.sqrt(T - t))\n",
    "    return d1\n",
    "def BSM_call_value(St, K, t, T, r, sigma):\n",
    "        d2 = d1f(St, K, t, T, r, sigma) - sigma * math.sqrt(T - t)\n",
    "        call_value = St * ss.norm.cdf(d1f(St, K, t, T, r, sigma)) - math.exp(-r * (T - t)) * K * ss.norm.cdf(d2)\n",
    "        return call_value"
   ]
  },
  {
   "cell_type": "code",
   "execution_count": 3,
   "metadata": {
    "collapsed": false
   },
   "outputs": [
   ],
   "source": [
    "#An example is given here\n",
    "S0 = 100.0 #initial stock price\n",
    "K = 110.0 #strike\n",
    "r=0.0475 #interest rate\n",
    "sigma = 0.20 #vol\n",
    "T = 1. #maturity\n",
    "Otype='C' #Call type\n",
    "n = 4 #number of periods\n",
    "t = np.linspace(0., T, n+1)[1:] #times to be used for geometric averaging stock price"
   ]
  },
  {
   "cell_type": "code",
   "execution_count": 4,
   "metadata": {
    "collapsed": false
   },
   "outputs": [
    {
     "data": {
      "text/plain": [
       "5.943273183452838"
      ]
     },
     "execution_count": 4,
     "metadata": {
     },
     "output_type": "execute_result"
    }
   ],
   "source": [
    "BSM_call_value(S0, K, 0, T, r, sigma)"
   ]
  },
  {
   "cell_type": "code",
   "execution_count": 0,
   "metadata": {
    "collapsed": false
   },
   "outputs": [
   ],
   "source": [
   ]
  },
  {
   "cell_type": "code",
   "execution_count": 0,
   "metadata": {
    "collapsed": false
   },
   "outputs": [
   ],
   "source": [
   ]
  },
  {
   "cell_type": "code",
   "execution_count": 0,
   "metadata": {
    "collapsed": false
   },
   "outputs": [
   ],
   "source": [
   ]
  }
 ],
 "metadata": {
  "kernelspec": {
   "display_name": "Python 3 (Anaconda 5)",
   "language": "python",
   "name": "anaconda5"
  },
  "language_info": {
   "codemirror_mode": {
    "name": "ipython",
    "version": 3
   },
   "file_extension": ".py",
   "mimetype": "text/x-python",
   "name": "python",
   "nbconvert_exporter": "python",
   "pygments_lexer": "ipython3",
   "version": "3.6.5"
  }
 },
 "nbformat": 4,
 "nbformat_minor": 0
}